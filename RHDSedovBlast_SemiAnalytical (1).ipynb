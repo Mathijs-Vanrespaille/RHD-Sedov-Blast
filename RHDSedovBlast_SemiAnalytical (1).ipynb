{
 "cells": [
  {
   "cell_type": "markdown",
   "metadata": {},
   "source": [
    "Computing a semi analytical solution to the Sedov-Taylor blast wave with radiation using the semi-analytical solution. \n",
    "-------------------------------------------------------------------------------------------------------------------------------------\n",
    "See Reinicke (1998), Krumholz (2007) or Duval (2020) for discussion of the physics and computational aspects.\n",
    "+++++++++++++++++++++++++++++++++++++++++++++++++++++++++++++++++++++++++++++++++++++++++++++++++++++++++++++++++++++++++++++++\n",
    "Code written by Hannah Duval, Eva Punter and Mathijs Vanrespaille. \n",
    "If you use this code in your publication, we kindly request you cite the following report: <br>\n",
    "H. Duval & E. Punter & M. Vanrespaille, Benchmarking a new RHD-code: The Radiation-Sedov Blast Wave, 2020, KU Leuven"
   ]
  },
  {
   "cell_type": "markdown",
   "metadata": {},
   "source": [
    "This code is roughly seperated into four parts. Firstly, we define useful constants, which are the primary input parameters. Secondly, many functions are defined to implement the numerical solution. Importantly, there are also functions for finding acceptable values for the two missing parameters given some input. Thirdly, there are some cells where these functions are applied using the same values used by Reinicke and Meyer-ter-Vehn (1991). Lastly, some more plots are made which serve to gain more intuition, noteable in how sensitive the integration is to the unknown values of the two unknown parameters."
   ]
  },
  {
   "cell_type": "code",
   "execution_count": 1,
   "metadata": {},
   "outputs": [],
   "source": [
    "import numpy as np\n",
    "import matplotlib.pyplot as plt\n",
    "import pandas as pd\n",
    "import scipy.integrate as solver"
   ]
  },
  {
   "cell_type": "code",
   "execution_count": 2,
   "metadata": {},
   "outputs": [],
   "source": [
    "# See the paper by Reinicke and Meyer-Ter-Vehn (1991), which contains the formulae that are implemented here\n",
    "\n",
    "# Input constants\n",
    "n = 3          # Level of symmetry, 3 for spherical symmetry\n",
    "chi_0 = 1      # Constant heat conduction [eq. (4)]\n",
    "a = -2         # Power dependance of heat conduction on density [eq. (4)]\n",
    "b = 13/2       # Power dependance of heat conduction on temperature [eq. (4)]\n",
    "gamma = 5/4    # Adiabatic exponent\n",
    "g_0 = 1        # Constant density\n",
    "E_0 = 135      # Energie released in point explosion\n",
    "Gamma = 1      # Ideal gas law constant\n",
    "\n",
    "C = [n, a, b]  # Convenient vector containing constants to be given to some functions."
   ]
  },
  {
   "cell_type": "code",
   "execution_count": 3,
   "metadata": {},
   "outputs": [],
   "source": [
    "# Constants which are calculated based on the input above\n",
    "\n",
    "k_p = ( (2*b-1)*n + 2 ) / ( 2*b - 2*a +1 )  \n",
    "kappa = -k_p                                # Power dependance of density on radius: rho = g_0 r^kappa\n",
    "alpha = ( 2*b - 2*a + 1 ) / ( 2*b - (n+2)*a + n )  \n",
    "Omega = 2*chi_0 / ( Gamma**(b+1) * g_0**(1-a) ) * ( E_0 / g_0 )**(b-1/2)   # Measure for the strength of the explosion [eq. 78 in Krumholz (2007)]\n",
    "sigma = ( 2*b-1 ) / ( alpha*(1-a) )\n",
    "mu = 2/(gamma-1)"
   ]
  },
  {
   "cell_type": "code",
   "execution_count": 4,
   "metadata": {},
   "outputs": [],
   "source": [
    "# RHS of eq. (13.a) in Reinicke (1991)\n",
    "def f1(y, beta) : \n",
    "    U = y[0]\n",
    "    Theta = y[1]\n",
    "    H = y[2]\n",
    "    W = y[3]\n",
    "    return -2*( 1 + W/(beta * H**(a-1) * Theta**b) )"
   ]
  },
  {
   "cell_type": "code",
   "execution_count": 5,
   "metadata": {},
   "outputs": [],
   "source": [
    "# RHS of eq. (13.b) in Reinicke (1991)\n",
    "def f2(y, beta) : \n",
    "    U = y[0]\n",
    "    Theta = y[1]\n",
    "    H = y[2]\n",
    "    W = y[3]\n",
    "    return sigma - (n+kappa+sigma)*U"
   ]
  },
  {
   "cell_type": "code",
   "execution_count": 6,
   "metadata": {},
   "outputs": [],
   "source": [
    "# RHS of eq. (13.c) in Reinicke (1991)\n",
    "def f3(y, beta) : \n",
    "    U = y[0]\n",
    "    Theta = y[1]\n",
    "    H = y[2]\n",
    "    W = y[3]\n",
    "    return U*(1/alpha-U) + Theta*(2*W/(beta * H**(a-1) * Theta**b) - kappa - sigma)"
   ]
  },
  {
   "cell_type": "code",
   "execution_count": 7,
   "metadata": {},
   "outputs": [],
   "source": [
    "# RHS of eq. (13.d) in Reinicke (1991)\n",
    "def f4(y, beta) : \n",
    "    U = y[0]\n",
    "    Theta = y[1]\n",
    "    H = y[2]\n",
    "    W = y[3]\n",
    "    \n",
    "    if Theta < 1.e-10:\n",
    "        return mu*(1/alpha-1) - n*U - (n+kappa+sigma)*W #waarom?\n",
    "    else: \n",
    "        return W / (beta * H**(a-1) * Theta**b) * (mu*(U-1) + 2*W) + mu*(1/alpha-1) - n*U - (n+kappa+sigma)*W"
   ]
  },
  {
   "cell_type": "code",
   "execution_count": 8,
   "metadata": {},
   "outputs": [],
   "source": [
    "# Applying the shock conditions [eq. 31]. As input, a vector of four elements is given as input which are then \n",
    "# altered and returned into another vector of four elements. \n",
    "def shockConditions(y) :\n",
    "    \n",
    "    U_out = y[0]\n",
    "    Theta_out = y[1]\n",
    "    H_out = y[2]\n",
    "    W_out = y[3]\n",
    "    \n",
    "    U_in = 1 - Theta_out / (1 - U_out)\n",
    "    Theta_in = Theta_out\n",
    "    H_in = H_out * (1 - U_out)**2 / Theta_out\n",
    "    W_in = ( Theta_out*W_out - ((1-U_out)**4-Theta_out**2)/(2*(1-U_out)) ) / (1-U_out)**2\n",
    "    \n",
    "    new = (U_in, Theta_in, H_in, W_in)\n",
    "    return new"
   ]
  },
  {
   "cell_type": "code",
   "execution_count": 9,
   "metadata": {},
   "outputs": [],
   "source": [
    "# The derivative of U to dimensionless radius xi (note that this is dU/dxi and not the logarithmic derivative)\n",
    "def dU(xi, y, beta) : \n",
    "    U = y[0]\n",
    "    Theta = y[1]\n",
    "    H = y[2]\n",
    "    W = y[3]\n",
    "    \n",
    "    return (Theta*f2(y, beta) - (U-1)*f3(y, beta)) / (Theta - (U-1)**2) / xi"
   ]
  },
  {
   "cell_type": "code",
   "execution_count": 10,
   "metadata": {},
   "outputs": [],
   "source": [
    "# The derivative of Theta to dimensionless radius xi (note that this is dU/dxi and not the logarithmic derivative)\n",
    "def dTheta(xi, y, beta) : \n",
    "    U = y[0]\n",
    "    Theta = y[1]\n",
    "    H = y[2]\n",
    "    W = y[3]\n",
    "    \n",
    "    return f1(y, beta)*Theta/xi"
   ]
  },
  {
   "cell_type": "code",
   "execution_count": 11,
   "metadata": {},
   "outputs": [],
   "source": [
    "# The derivative of H to dimensionless radius xi (note that this is dU/dxi and not the logarithmic derivative)\n",
    "def dH(xi, y, beta) : \n",
    "    U = y[0]\n",
    "    Theta = y[1]\n",
    "    H = y[2]\n",
    "    W = y[3]\n",
    "    \n",
    "    return ( f3(y, beta) - (U-1)*f2(y, beta) ) / ( Theta - (U-1)**2 ) * H/xi"
   ]
  },
  {
   "cell_type": "code",
   "execution_count": 12,
   "metadata": {},
   "outputs": [],
   "source": [
    "# The derivative of W to dimensionless radius xi (note that this is dU/dxi and not the logarithmic derivative)\n",
    "def dW(xi, y, beta) : \n",
    "    U = y[0]\n",
    "    Theta = y[1]\n",
    "    H = y[2]\n",
    "    W = y[3]\n",
    "    \n",
    "    return ( f4(y, beta) - ( (W-U+1)*f3(y, beta) + (Theta - (U-1)*W)*f2(y, beta) ) / (Theta - (U-1)**2) ) / xi"
   ]
  },
  {
   "cell_type": "code",
   "execution_count": 13,
   "metadata": {},
   "outputs": [],
   "source": [
    "# Functie die de vier afgeleiden bijeen brengt. Dit geef je mee aan scipy.integrate.solve_ivp en specifieer dat er een extra argument is door args=[beta] mee te geven.\n",
    "def update(xi, y, beta) :\n",
    "    return (dU(xi, y, beta), dTheta(xi, y, beta), dH(xi, y, beta), dW(xi, y, beta))"
   ]
  },
  {
   "cell_type": "code",
   "execution_count": 14,
   "metadata": {},
   "outputs": [],
   "source": [
    "# integrand [eq. 26.d]\n",
    "def integrand_IC(y):\n",
    "    F_y = y**(b-1) * (1-y)**(b-a) * (1-2*y)/(mu - (mu + 1)*y)\n",
    "    return F_y\n",
    "\n",
    "# Calculate the initial conditions just inside the radiation front.\n",
    "def Initial_conditions(xi_f, beta, U_0):\n",
    "\n",
    "    Int, err = solver.quad(integrand_IC, 0, U_0)\n",
    "    Fac = -beta*xi_f**((2*b-1)/a)\n",
    "\n",
    "    ln_x = Fac*Int\n",
    "    xi_new = np.exp(ln_x)*xi_f #24\n",
    "    \n",
    "    #rest 26\n",
    "    Theta_0 = U_0*(1-U_0)\n",
    "    G_0 = 1./(1-U_0)\n",
    "    H_0 = xi_new**(-sigma)*G_0\n",
    "    W_0 =  (mu - (mu+1)*U_0)/2\n",
    "    \n",
    "    return xi_new, [U_0, Theta_0, H_0, W_0]"
   ]
  },
  {
   "cell_type": "code",
   "execution_count": 15,
   "metadata": {},
   "outputs": [],
   "source": [
    "# Defining the conditions for an 'event', during which this function returns 0. An event occurs when \n",
    "# U = 1+sqrt(Theta) or U = 1-sqrt(Theta), as this represents the sound barrier. \n",
    "def supersonic(t, y, beta) :\n",
    "    return (y[0] - (1+np.sqrt(y[1])) ) * (y[0] - (1-np.sqrt(y[1])) )\n",
    "supersonic.terminal = True # This last addition means the numerical integration is halted when an event occurs."
   ]
  },
  {
   "cell_type": "code",
   "execution_count": 16,
   "metadata": {},
   "outputs": [],
   "source": [
    "# Returns the outer and inner solutions in that order, according to the scipy.integrate notation.\n",
    "# See https://docs.scipy.org/doc/scipy/reference/generated/scipy.integrate.solve_ivp.html#scipy.integrate.solve_ivp\n",
    "# As input, it requests four scalars. \n",
    "# 1: a guess for the radius of the radiation front, the radius being normalised to one at the shock front.\n",
    "# 2: the innermost radius. Ideally, we would integrate to xi=0, but this causes a division by zero error. 10^-3 is recommended \n",
    "# 3: a guess for the parameter beta_0, see Reinicke&Meyer-ter-Vehn (1991)\n",
    "# 4: value of U just inside the radiation front. Ideally, we would integrate starting from xi=xi_f, \n",
    "#     but this causes a division by zero error. 10^-3 is recommended\n",
    "def integration(xi_f, xi_0, beta, U_0) :\n",
    "    # Note that we integrate from the outermost point of interest (radiation front) to the centre. \n",
    "    # Points outside the radiation front have not been perturbed and are this in their initial state and therefore\n",
    "    # of little interest to us.\n",
    "    xi_new, initial_out = Initial_conditions(xi_f, beta, U_0)\n",
    "    sol_out = solver.solve_ivp(update, (xi_new, 1.0), initial_out, method=\"LSODA\", rtol=1e-6, args = [beta], events = supersonic)\n",
    "    final_out = (sol_out.y[0][-1], sol_out.y[1][-1], sol_out.y[2][-1], sol_out.y[3][-1])\n",
    "    initial_in = shockConditions(final_out)\n",
    "    sol_in = solver.solve_ivp(update, (1.0, xi_0), initial_in, method=\"LSODA\", rtol=1e-6, events = supersonic, args=[beta])\n",
    "    \n",
    "    return sol_out, sol_in"
   ]
  },
  {
   "cell_type": "code",
   "execution_count": 17,
   "metadata": {},
   "outputs": [],
   "source": [
    "# Return the numerical solutions of both the solutions stitched together. Note the order in which these six dimensionless\n",
    "# variables are returned.\n",
    "def appendSolutions(sol_out, sol_in) :\n",
    "    xi = np.append(sol_out.t, sol_in.t)\n",
    "    U = np.append(sol_out.y[0], sol_in.y[0])\n",
    "    Theta = np.append(sol_out.y[1], sol_in.y[1])\n",
    "    H = np.append(sol_out.y[2], sol_in.y[2])\n",
    "    W = np.append(sol_out.y[3], sol_in.y[3])\n",
    "    G = H * xi**sigma\n",
    "    return xi, U, Theta, H, W, G"
   ]
  },
  {
   "cell_type": "code",
   "execution_count": 18,
   "metadata": {},
   "outputs": [],
   "source": [
    "# If given the solutions between the two fronts and inside the shock front according to the scipy.integrate notation, \n",
    "# this functions quickly makes six relevant plots. These are the dimensionless speed, temperature, density (two measures)\n",
    "# and heat flux. Finally, it plots the \n",
    "def plotIntegration(sol_out, sol_in) :\n",
    "    xi, U, Theta, H, W, G = appendSolutions(sol_out, sol_in)\n",
    "    fig, ax = plt.subplots(3, 2, figsize=(10,15))\n",
    "    \n",
    "    ax[0][0].plot(xi, U, color='blue')\n",
    "    ax[0][0].set_title(\"Dimensionless speed\", fontsize=16)\n",
    "    ax[0][0].set_xlabel('$\\\\xi$', fontsize=14)\n",
    "    ax[0][0].set_ylabel(\"U\", fontsize=14)\n",
    "    ax[0][0].grid()\n",
    "\n",
    "    ax[0][1].plot(xi, Theta, color='blue')\n",
    "    ax[0][1].set_title(\"Dimensionless temperature\", fontsize=16)\n",
    "    ax[0][1].set_xlabel(\"$\\\\xi$\", fontsize=14)\n",
    "    ax[0][1].set_ylabel(\"$\\\\Theta$\", fontsize=14)\n",
    "    ax[0][1].grid()\n",
    "    \n",
    "    ax[1][0].plot(xi, H, color='blue')\n",
    "    ax[1][0].set_title(\"Dimensionless density H\", fontsize=16)\n",
    "    ax[1][0].set_xlabel(\"$\\\\xi$\", fontsize=14)\n",
    "    ax[1][0].set_ylabel(\"H\", fontsize=14)\n",
    "    ax[1][0].grid()\n",
    "    \n",
    "    ax[1][1].plot(xi, G, color='blue')\n",
    "    ax[1][1].set_title(\"Dimensionless density G\", fontsize=16)\n",
    "    ax[1][1].set_xlabel(\"$\\\\xi$\", fontsize=14)\n",
    "    ax[1][1].set_ylabel(\"G\", fontsize=14)\n",
    "    ax[1][1].grid()\n",
    "    \n",
    "    ax[2][0].plot(xi, W, color='blue')\n",
    "    ax[2][0].set_title(\"Dimensionless heat flux\", fontsize=16)\n",
    "    ax[2][0].set_xlabel(\"$\\\\xi$\", fontsize=14)\n",
    "    ax[2][0].set_ylabel(\"W\", fontsize=14)\n",
    "    ax[2][0].grid()\n",
    "    \n",
    "    ax[2][1].plot(np.sqrt(sol_out.y[1]), sol_out.y[0], color='blue')\n",
    "    ax[2][1].plot(np.sqrt(sol_in.y[1]), sol_in.y[0], color='red')\n",
    "    ax[2][1].plot([np.sqrt(sol_out.y[1][-1]), np.sqrt(sol_in.y[1][0])], [sol_out.y[0][-1], sol_in.y[0][0]], 'k--')\n",
    "    ax[2][1].plot([0, np.sqrt(np.max(Theta))], [1, 1-np.sqrt(np.max(Theta))], color='black')\n",
    "    ax[2][1].plot([0, np.sqrt(np.max(Theta))], [1, 1+np.sqrt(np.max(Theta))], color='black')\n",
    "    ax[2][1].set_title(\"U - $\\\\Theta$ plane\", fontsize=16)\n",
    "    ax[2][1].set_xlabel(\"$\\\\sqrt{\\\\Theta}$\", fontsize=14)\n",
    "    ax[2][1].set_ylabel(\"U\", fontsize=14)\n",
    "    ax[2][1].grid()\n",
    "    \n",
    "    fig.tight_layout()\n",
    "    return"
   ]
  },
  {
   "cell_type": "code",
   "execution_count": 19,
   "metadata": {},
   "outputs": [],
   "source": [
    "# Check if, given some input for the integration, an event is encountered during the integration. If not, it will return\n",
    "# 3. If an event does happen, it returns 1 if U < 1 - sqrt(Theta) and 2 if U > 1 + sqrt(Theta). \n",
    "def detectEvent(C, xi_f, xi_0, U_0, beta) :\n",
    "# It is assumed that the integration is halted if an event is encountered.\n",
    "\n",
    "    xi_new, initial_out = Initial_conditions(xi_f, beta, U_0)\n",
    "    sol_out = solver.solve_ivp(update, (xi_new, 1.0), initial_out, method=\"LSODA\", rtol=1e-6, args=[beta])\n",
    "    final_out = (sol_out.y[0][-1], sol_out.y[1][-1], sol_out.y[2][-1], sol_out.y[3][-1])\n",
    "    initial_in = shockConditions(final_out)\n",
    "    solution = solver.solve_ivp(update, (1.0, xi_0), initial_in, method=\"LSODA\", rtol=1e-6, events = supersonic, args=[beta])\n",
    "\n",
    "    if len(solution.t_events[0]) == 0 :\n",
    "        return 3\n",
    "    U_event = solution.y[0][-1]\n",
    "    Theta_event = solution.y[1][-1]\n",
    "    #if U_event < 1 - np.sqrt(Theta_event) :\n",
    "    # This if-statement does not work because the integration stops just before crossing this barrier. Therefore, we use the\n",
    "    # simpler, but still robust if-statement below.\n",
    "    if U_event < 1 :\n",
    "        return 1\n",
    "    #if U_event > 1 + np.sqrt(Theta_event) :\n",
    "    if U_event > 1 :\n",
    "        return 2\n",
    "    return None #This is only returned if an event occurs at U=1."
   ]
  },
  {
   "cell_type": "code",
   "execution_count": 20,
   "metadata": {},
   "outputs": [],
   "source": [
    "# Search for an acceptable value for beta_0 using a bisection scheme. As input, it requests a vector containing the \n",
    "# three constants n, a, b (defined above), the radius of the heat front, the inner radius, initial value for dimensionless\n",
    "# speed, the range of values in which we search for beta and the relative tolerance on beta. \n",
    "# The interval in which beta is searched is constantly being reduced. If it becomes smaller than the relative tolerance \n",
    "# multiplied by the median of the interval, the bisection is ended and no acceptable value was found.\n",
    "def bisectionBeta(C, xi_f, xi_0, U_0, beta_min, beta_max, tolerance) :   \n",
    "    \n",
    "    beta_mid = (beta_min + beta_max)/2\n",
    "    if (beta_max - beta_min) / beta_mid < tolerance :\n",
    "        #print('Interval smaller than the relative tolerance.') Use this to inform yourself whether the bisection failed\n",
    "        return beta_mid\n",
    "    \n",
    "    event = detectEvent(C, xi_f, xi_0, U_0, beta_mid)\n",
    "    if not (event in [1,2,3]) :\n",
    "        raise Exception('Not a valid event.')\n",
    "\n",
    "    if event == 1 :\n",
    "        return bisectionBeta(C, xi_f, xi_0, U_0, beta_mid, beta_max, tolerance)\n",
    "    if event == 2 :\n",
    "        return bisectionBeta(C, xi_f, xi_0, U_0, beta_min, beta_mid, tolerance)    \n",
    "    if event == 3 :\n",
    "        #print('The shock was reached.') Use this to inform yourself whether the bisection was succesful\n",
    "        return beta_mid\n",
    "    \n",
    "    return None"
   ]
  },
  {
   "cell_type": "code",
   "execution_count": 21,
   "metadata": {},
   "outputs": [],
   "source": [
    "# Use the integral in equation 79 in Krumholz (1991) to numerically compute Omega using the solution. As input, this function\n",
    "# requires the vector containing constants n, a, b (defined above), the radius of the heat front, the innermost radius and\n",
    "# the value of the parameter beta. \n",
    "def eq78(C, xi_f, xi_0, beta) : \n",
    "    n = C[0]\n",
    "    a = C[1]\n",
    "    b = C[2]\n",
    "    \n",
    "    xi_new, initial_out = Initial_conditions(xi_f, beta, 1.e-3)\n",
    "    sol_out = solver.solve_ivp(update, (xi_new, 1.0), initial_out, method=\"LSODA\", rtol=1e-6, args=[beta], t_eval = np.linspace(xi_new, 1, 1000))\n",
    "    final_out = (sol_out.y[0][-1], sol_out.y[1][-1], sol_out.y[2][-1], sol_out.y[3][-1])\n",
    "    initial_in = shockConditions(final_out)\n",
    "    sol_in = solver.solve_ivp(update, (1.0, xi_0), initial_in, method=\"LSODA\", rtol=1e-6, events = supersonic, args=[beta], t_eval = np.linspace(1, xi_0, 1000))\n",
    "    \n",
    "    xi, U, Theta, H, W, G = appendSolutions(sol_out, sol_in)\n",
    "    \n",
    "    Omega = 0\n",
    "    for i in range(len(xi)-1) :\n",
    "        \n",
    "        xi_gem = (xi[i] + xi[i+1])/2\n",
    "        U_gem = (U[i] + U[i+1])/2\n",
    "        Theta_gem = (Theta[i] + Theta[i+1])/2\n",
    "        G_gem = (G[i] + G[i+1])/2\n",
    "        Omega += (xi[i]-xi[i+1]) * xi_gem**(n-k_p+1) * G_gem * (U_gem**2 + mu*Theta_gem)\n",
    "    \n",
    "    return beta * (2*np.pi*Omega)**(b-1/2)"
   ]
  },
  {
   "cell_type": "code",
   "execution_count": 22,
   "metadata": {},
   "outputs": [],
   "source": [
    "# Search for an acceptable value for Omega and beta_0 using nested bisection schemes. As input, it requests a vector containing\n",
    "# three constants n, a, b (defined above), the radius of the heat front, the inner radius, initial value for dimensionless\n",
    "# speed, the range of values in which we search for beta_0, the value of Omega we seek to approach, the relative tolerance \n",
    "# on xi, the relative tolerance on beta_0 and the relative tolerance on Omega. \n",
    "def bisectionOmega(C, xi_min, xi_max, xi_0, U_0, beta_min, beta_max, Omega_wanted, tolerancexi, toleranceBeta, toleranceOmega) :\n",
    "    xi_mid = (xi_min + xi_max)/2\n",
    "    beta_mid = bisectionBeta(C, xi_mid, xi_0, U_0, beta_min, beta_max, toleranceBeta)\n",
    "    Omega_mid = eq78(C, xi_mid, xi_0, beta_mid)\n",
    "    print((xi_mid, beta_mid, Omega_mid))\n",
    "    \n",
    "    if (xi_max - xi_min)/xi_mid < tolerancexi :\n",
    "        #print('Interval xi smaller than given tolerance.') Use this to inform yourself whether the bisection has failed\n",
    "        return (xi_mid, beta_mid, Omega_mid)\n",
    "    \n",
    "    if Omega_mid > Omega_wanted / (1+toleranceOmega) and Omega_mid < Omega_wanted * (1+toleranceOmega) :\n",
    "        return (xi_mid, beta_mid, Omega_mid) \n",
    "# The computed value of Omega from the solution is sufficiently close to the expected value and the bisection scheme may end.\n",
    "    \n",
    "    if Omega_mid < Omega_wanted :\n",
    "        return bisectionOmega(C, xi_mid, xi_max, xi_0, U_0, beta_min, beta_max, Omega_wanted, tolerancexi, toleranceBeta, toleranceOmega)\n",
    "    if Omega_mid > Omega_wanted :\n",
    "        return bisectionOmega(C, xi_min, xi_mid, xi_0, U_0, beta_min, beta_max, Omega_wanted, tolerancexi, toleranceBeta, toleranceOmega)\n",
    "    return None"
   ]
  },
  {
   "cell_type": "code",
   "execution_count": 23,
   "metadata": {},
   "outputs": [],
   "source": [
    "# Calculate the constant zeta which appears in equation 76 in Krumholz.\n",
    "def zeta(beta) :\n",
    "    return ( beta * Gamma**(b+1) * g_0**(1-a) / ( 2*chi_0 * alpha**(2*b-1) ) )**(alpha/(2*b-1))"
   ]
  },
  {
   "cell_type": "code",
   "execution_count": 24,
   "metadata": {},
   "outputs": [],
   "source": [
    "# Convert the dimensionless solutions between the fronts and inside the shock front to the dimensionfull, physical quantities.\n",
    "# Besides the solution, the constant zeta and the time after the explosion are also needed.\n",
    "# If normalise is set to True, all quantities (including the radius!) are normalised to 1 at their maximum.\n",
    "def convertToPhysical(sol_out, sol_in, zeta, t, normalise = False) : \n",
    "    xi_norm = sol_out.t[-1]\n",
    "    r_norm = xi_norm * zeta * t**alpha\n",
    "    \n",
    "    xi, U, Theta, H, W, G = appendSolutions(sol_out, sol_in)\n",
    "    r = xi * zeta * t**alpha\n",
    "    rho = G * g_0 * r**kappa\n",
    "    v = U * r * alpha / t\n",
    "    T = Theta * (alpha*r/t)**2\n",
    "    \n",
    "    if normalise:\n",
    "        return r/r_norm, v/np.max(v), T/np.max(T), rho/np.max(rho)\n",
    "    return r, v, T, rho"
   ]
  },
  {
   "cell_type": "code",
   "execution_count": 25,
   "metadata": {},
   "outputs": [],
   "source": [
    "# Given the solutions, constant zeta and time after the explosion, three plots of the most important physical quantities\n",
    "# are made. These are speed, temperature and density in that order. \n",
    "# If normalise is set to True, all quantities (including the radius!) are normalised to 1 at their maximum.\n",
    "def plotPhysical(sol_out, sol_in, zeta, t, normalise = False) :\n",
    "    r, v, T, rho = convertToPhysical(sol_out, sol_in, zeta, t, normalise = normalise)\n",
    "    \n",
    "    fig, ax = plt.subplots(1, 3, figsize=(15, 5))\n",
    "    \n",
    "    ax[0].plot(r, v)\n",
    "    ax[0].set_title('Speed gas', fontsize=18)\n",
    "    ax[0].set_xlabel('r [a.u.]', fontsize=16)\n",
    "    ax[0].set_ylabel('v [a.u.]', fontsize=16)\n",
    "    ax[0].grid()\n",
    "    \n",
    "    ax[1].plot(r, T)\n",
    "    ax[1].set_title('Temperature gas', fontsize=18)\n",
    "    ax[1].set_xlabel('r [a.u.]', fontsize=16)\n",
    "    ax[1].set_ylabel('T [a.u.]', fontsize=16)\n",
    "    ax[1].grid()\n",
    "    \n",
    "    ax[2].plot(r, rho)\n",
    "    ax[2].set_title('Density gas', fontsize=18)\n",
    "    ax[2].set_xlabel('r [a.u.]', fontsize=16)\n",
    "    ax[2].set_ylabel('$\\\\rho$ [a.u.]', fontsize=16)\n",
    "    ax[2].grid()\n",
    "    \n",
    "    plt.tight_layout()\n",
    "    plt.show()\n",
    "    return fig"
   ]
  },
  {
   "cell_type": "code",
   "execution_count": 26,
   "metadata": {},
   "outputs": [
    {
     "name": "stdout",
     "output_type": "stream",
     "text": [
      "The shock was reached.\n",
      "The shock was reached.\n",
      "(2.25, 80320739.74609375, 456618023057182.06)\n",
      "Interval smaller than the relative tolerance.\n",
      "(1.625, 99999999.66472387, 184971688330.7174)\n",
      "The shock was reached.\n",
      "(1.9375, 69648208.61816406, 301880876383255.75)\n",
      "The shock was reached.\n",
      "(2.09375, 75304107.66601562, 375321667907618.2)\n",
      "The shock was reached.\n",
      "(2.015625, 72571945.19042969, 337737019382152.6)\n",
      "The shock was reached.\n",
      "(1.9765625, 71121749.87792969, 319416485532026.25)\n",
      "The shock was reached.\n",
      "(1.99609375, 71856117.24853516, 328562809759289.94)\n"
     ]
    },
    {
     "data": {
      "text/plain": [
       "(1.99609375,\n",
       " 71856117.24853516,\n",
       " 72000656.12792969,\n",
       " 328562809759289.94,\n",
       " 330393105009191.9)"
      ]
     },
     "metadata": {},
     "output_type": "display_data"
    }
   ],
   "source": [
    "# We use the functions above to find acceptable values for the radius of the radiation front and the parameter beta_0.\n",
    "# What is presented here is a simple example based on the results of Reinicke and Meyer-ter-Vehn. In most applications, \n",
    "# we cannot determine Omega from xi_f, as that's an unknown. It may be found using equation 78 in Krumholz (1991).\n",
    "xi_0 = 0.005 # Some small inner radius.\n",
    "xi_f = 2 # Initial guess of the radiations front's radius.\n",
    "beta_0 = bisectionBeta(C, xi_f, xi_0, 10**-3, 10**6, 10**8, 10**-6) \n",
    "# We use the initial guess for the radiation front's radius to guess an acceptable beta_0. \n",
    "omega_wanted = eq78(C, xi_f, xi_0, beta_0) # We use the previous guesses to estimate what omega we would find.\n",
    "\n",
    "xi_found, beta_found, omega_found = bisectionOmega(C, 1, 3.5, xi_0, 10**-3, 10**7, 10**8, omega_wanted, 10**-7, 10**-8, 1e-2)\n",
    "display( (xi_found, beta_found, beta_0, omega_found, omega_wanted) )"
   ]
  },
  {
   "cell_type": "code",
   "execution_count": 27,
   "metadata": {
    "scrolled": false
   },
   "outputs": [
    {
     "data": {
      "image/png": "[encoded data removed]",
      "text/plain": [
       "<Figure size 1080x360 with 3 Axes>"
      ]
     },
     "metadata": {
      "needs_background": "light"
     },
     "output_type": "display_data"
    }
   ],
   "source": [
    "# Using the values found by the nested bisection schemes, we calculate the final solution and plot the physical quantities. \n",
    "sol_outer, sol_inner = integration(xi_found, xi_0, beta_found, 1e-3)\n",
    "zeta_found = zeta(beta_found)\n",
    "fig = plotPhysical(sol_outer, sol_inner, zeta_found, 1, normalise = True)\n",
    "#fig.savefig('Physical quantities', dpi=400)"
   ]
  },
  {
   "cell_type": "code",
   "execution_count": 29,
   "metadata": {},
   "outputs": [
    {
     "data": {
      "image/png": "[encoded data removed]",
      "text/plain": [
       "<Figure size 432x288 with 1 Axes>"
      ]
     },
     "metadata": {
      "needs_background": "light"
     },
     "output_type": "display_data"
    }
   ],
   "source": [
    "# A plot of the integrand used to calculate the strength of the explosion Omega. It is quite clear that the most important\n",
    "# part is that just inside the shock front. Changing the inner radius to which we integrate therefore does not drastically\n",
    "# change Omega.\n",
    "# Serves mostly for edducational purposes, feel free to ignore.\n",
    "\n",
    "xi, U, Theta, H, W, G = appendSolutions(sol_outer, sol_inner)\n",
    "\n",
    "fig, ax = plt.subplots(1,1)\n",
    "ax.plot(xi, xi**(n-k_p+1) * G * (U**2 + mu*Theta))\n",
    "ax.set_xlabel('$\\\\xi$', fontsize=14)\n",
    "ax.set_ylabel('Integrand', fontsize=14)\n",
    "plt.grid()\n",
    "plt.show()\n",
    "fig.savefig('Integrand eq78', dpi=400)"
   ]
  },
  {
   "cell_type": "code",
   "execution_count": 31,
   "metadata": {},
   "outputs": [
    {
     "data": {
      "image/png": "[encoded data removed]",
      "text/plain": [
       "<Figure size 576x576 with 1 Axes>"
      ]
     },
     "metadata": {
      "needs_background": "light"
     },
     "output_type": "display_data"
    }
   ],
   "source": [
    "# More detailed plot of U-sqrt(Theta) plane that clearly shows the impact of changing beta_0 only slightly. \n",
    "# Serves mostly as an edducational example, feel free to ignore.\n",
    "\n",
    "sol_out1, sol_in1 = integration(2, 0.2, 7.15e7, 10**-3)\n",
    "sol_out2, sol_in2 = integration(2, 0.2, 7.205e7, 10**-3)\n",
    "sol_out3, sol_in3 = integration(2, 0.2, 7.4e7, 10**-3)\n",
    "\n",
    "fig, ax = plt.subplots(1,1, figsize=(8,8))\n",
    "\n",
    "plt.plot([0, 1.8], [1, -0.8], color='black', label=\"Speed of sound\")\n",
    "plt.plot([0, 1.8], [1, 2.8], color='black')\n",
    "plt.title(\"Checking for supersonic events\", fontsize=24)\n",
    "plt.xlabel(\"$\\\\sqrt{\\\\Theta}$ [a.u.]\", fontsize=20)\n",
    "plt.ylabel(\"U [a.u.]\", fontsize=20)\n",
    "\n",
    "plt.plot([np.sqrt(sol_out1.y[1][-1]), np.sqrt(sol_in1.y[1][0])], [sol_out1.y[0][-1], sol_in1.y[0][0]], 'k--', label=\"Shock front\")\n",
    "plt.plot(np.sqrt(sol_out1.y[1]), sol_out1.y[0], color='blue', label=\"Outside the shock\")\n",
    "plt.plot(np.sqrt(sol_in1.y[1]), sol_in1.y[0], color='red', label=\"$\\\\beta = 7.15E7$\")\n",
    "\n",
    "plt.plot(np.sqrt(sol_out2.y[1]), sol_out2.y[0], color='blue')\n",
    "plt.plot(np.sqrt(sol_in2.y[1]), sol_in2.y[0], color='green', label=\"$\\\\beta = 7.205E7$\")\n",
    "plt.plot([np.sqrt(sol_out2.y[1][-1]), np.sqrt(sol_in2.y[1][0])], [sol_out2.y[0][-1], sol_in2.y[0][0]], 'k--')\n",
    "\n",
    "plt.plot(np.sqrt(sol_out3.y[1]), sol_out3.y[0], color='blue')\n",
    "plt.plot(np.sqrt(sol_in3.y[1]), sol_in3.y[0], color='orange', label=\"$\\\\beta = 7.40E7$\")\n",
    "plt.plot([np.sqrt(sol_out3.y[1][-1]), np.sqrt(sol_in3.y[1][0])], [sol_out3.y[0][-1], sol_in3.y[0][0]], 'k--')\n",
    "\n",
    "\n",
    "plt.legend(fontsize=14)\n",
    "plt.rc('xtick', labelsize=14) \n",
    "plt.rc('ytick', labelsize=14) \n",
    "plt.grid()             \n",
    "plt.tight_layout()"
   ]
  }
 ],
 "metadata": {
  "kernelspec": {
   "display_name": "Python 3",
   "language": "python",
   "name": "python3"
  },
  "language_info": {
   "codemirror_mode": {
    "name": "ipython",
    "version": 3
   },
   "file_extension": ".py",
   "mimetype": "text/x-python",
   "name": "python",
   "nbconvert_exporter": "python",
   "pygments_lexer": "ipython3",
   "version": "3.7.7"
  }
 },
 "nbformat": 4,
 "nbformat_minor": 2
}
